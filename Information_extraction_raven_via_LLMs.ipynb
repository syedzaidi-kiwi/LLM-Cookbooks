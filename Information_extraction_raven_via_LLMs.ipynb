{
  "cells": [
    {
      "cell_type": "markdown",
      "metadata": {
        "id": "view-in-github",
        "colab_type": "text"
      },
      "source": [
        "<a href=\"https://colab.research.google.com/github/syedzaidi-kiwi/LLM-Cookbooks/blob/main/Information_extraction_raven_via_LLMs.ipynb\" target=\"_parent\"><img src=\"https://colab.research.google.com/assets/colab-badge.svg\" alt=\"Open In Colab\"/></a>"
      ]
    },
    {
      "cell_type": "markdown",
      "metadata": {
        "id": "8Ksv005GbN2w"
      },
      "source": [
        "# 🧪🐦‍⬛ Needle in a Jungle - Information Extraction via LLMs\n",
        "\n",
        "<a target=\"_blank\" href=\"https://colab.research.google.com/github/deepset-ai/haystack-cookbook/blob/main/notebooks/information_extraction_raven.ipynb\">\n",
        "  <img src=\"https://colab.research.google.com/assets/colab-badge.svg\" alt=\"Open In Colab\" width=\"200\"/>\n",
        "</a>\n",
        "\n",
        "<img src=\"https://haystack.deepset.ai/images/haystack-ogimage.png\" width=\"430\" style=\"display:inline;\">&nbsp;&nbsp;&nbsp;&nbsp;&nbsp;&nbsp;<img src=\"https://huggingface.co/Nexusflow/NexusRaven-V2-13B/resolve/main/NexusRaven.png\" width=\"250\" style=\"display:inline;\">\n",
        "\n",
        "*Notebook by [Syed Asad](https://huggingface.co/syedzaidi-kiwi)*\n",
        "\n",
        "In this experiment, we will use Large Language Models to perform Information Extraction from textual data.\n",
        "\n",
        "🎯 Goal: create an application that, given a URL and a specific structure provided by the user, extracts information from the source.\n",
        "\n",
        "The \"**function calling**\" capabilities of OpenAI models unlock this task: the user can describe a structure, by defining a mock up function with all its typed and specific parameters. The LLM will prepare the data in this specific form and send it back to the user.\n",
        "\n",
        "A nice example of using OpenAI Function Calling for information extraction is this [gist by Kyle McDonald](https://gist.github.com/kylemcdonald/dbac21de2d7855633689f5526225154c).\n",
        "\n",
        "**What is changing now is that open models such as NexusRaven are emerging, with function calling capabilities...**\n",
        "\n",
        "*This is an improved version of an older experiment, using Gorilla Open Functions*\n",
        "\n",
        "\n",
        "**Stack**\n",
        "- **[NexusRaven](https://huggingface.co/Nexusflow/NexusRaven-V2-13B)**: an open-source and commercially viable function calling model that surpasses the state-of-the-art in function calling capabilities.\n",
        "- **[Haystack](https://haystack.deepset.ai/)**: open-source LLM orchestration framework that streamlines the development of your LLM applications."
      ]
    },
    {
      "cell_type": "markdown",
      "metadata": {
        "colab_type": "toc",
        "id": "FENpHc71sBmV"
      },
      "source": [
        ">[🧪🐦‍⬛ Needle in a Jungle - Information Extraction via LLMs](#scrollTo=8Ksv005GbN2w)\n",
        "\n",
        ">>[Install the dependencies](#scrollTo=Qd4cBgege7PW)\n",
        "\n",
        ">>[Load and try the model](#scrollTo=-3GvBu0Ffp9I)\n",
        "\n",
        ">>[Prompt template and Prompt Builder](#scrollTo=uXiUvn0dsNj6)\n",
        "\n",
        ">>[Other Components](#scrollTo=vlqZUbLqyTtT)\n",
        "\n",
        ">>[Define a custom Component to parse and visualize the result](#scrollTo=ASq0gDuZ1Vn_)\n",
        "\n",
        ">>[Create an Information Extraction Pipeline](#scrollTo=pAMBYA7ZFEk0)\n",
        "\n",
        ">>[🕹️ Try our application!](#scrollTo=furABTbcV57u)\n",
        "\n",
        ">>[⚠️ Caveats and 🔮 future directions](#scrollTo=mG-W-d9Le-sp)\n",
        "\n",
        ">>[📚 References](#scrollTo=xNAXyTefgpRX)\n",
        "\n"
      ]
    },
    {
      "cell_type": "markdown",
      "metadata": {
        "id": "Qd4cBgege7PW"
      },
      "source": [
        "## Install the dependencies"
      ]
    },
    {
      "cell_type": "code",
      "execution_count": 1,
      "metadata": {
        "id": "UBhGlKTXesIX"
      },
      "outputs": [],
      "source": [
        "%%capture\n",
        "! pip install transformers haystack-ai"
      ]
    },
    {
      "cell_type": "markdown",
      "metadata": {
        "id": "-3GvBu0Ffp9I"
      },
      "source": [
        "## Load and try the model\n",
        "We use the [`HuggingFaceTGIGenerator`](https://docs.haystack.deepset.ai/docs/huggingfacetgigenerator), which allows to use models hosted on Hugging Face endpoints.\n",
        "In particular, we use a paid endpoint kindly provided by Nexusflow to test the LLM.\n",
        "\n",
        "Alternative inference options:\n",
        "- load the model on Colab using the HuggingFaceLocalGenerator. This is a bit impractical because the model is quite big (13B parameters) and even using quantization, there would be few GPU resources left for inference.\n",
        "- local inference via TGI or vLLM: this is a good option if you have GPU avalaible.\n",
        "- local inference via Ollama/llama.cpp: this is suitable for machines with few resources and no GPU. Keep in mind that in this case a quantized GGUF version of the model would be used, with lower quality than the original model."
      ]
    },
    {
      "cell_type": "code",
      "execution_count": 2,
      "metadata": {
        "colab": {
          "base_uri": "https://localhost:8080/",
          "height": 177,
          "referenced_widgets": [
            "fd9b4015dd7f4667b26739a9da59eed4",
            "1c6df869760b48bb8198b03d92fd8c67",
            "8c4b3b5bbeb94086801264954557f0a6",
            "6f397359b5bf484fa83917db682da042",
            "9f8eb5d6dca14441822c3982eb217e05",
            "bff64dd656f1448fa16781ea7325c658",
            "0f1e7344b53a46018fe2950e9ab5e987",
            "15df806b915e49969ed1ca47b45e9ca9",
            "3e62a9cdde824c94aa8ba108a160f7d2",
            "b455ad30f5be4ba893451284c7bcef21",
            "abec50b394b246a08555189a3d33e31b",
            "046d4baac5534f239acb742d0bf01b56",
            "b92ae6ae1d014c5e8bb97c1798237f7e",
            "f7b558a183d947238ab7a68e6a04ea3e",
            "7de461a4b3ae4b629910ee718044a3b7",
            "597fb1425d474a5ba73dc4b57f826e60",
            "66ca93f001c14036a413b545a91053a6",
            "29f2ce77462d4370bb1c010198ea89f9",
            "6031ab33fc894db2bef2c07aa1d4b234",
            "faa763bd98ab44568f877076b4ebffa1",
            "7d19d0edd76f4487991c4f6736ee956c",
            "f1ba5fae397543c5b83b4ed475f601ed",
            "09eb8f8dc98e450186df74cc8707f81f",
            "09631cb7aa0a44e39b863ab10c5b57d8",
            "0aa8917b0c2c4df086f5198cda1a0344",
            "89fc209c593e45129db82575e062d44e",
            "fae3a82f0dbc4c0d94dc01eec7cba5c0",
            "41d948b91af54ee094cec35a4e7412ac",
            "c44312344f934a26954cf69bcc02ee48",
            "a1bda7b691ed4a58a01c72b4617a7c0a",
            "3f69b8a3b1574285a61d011f3fcd66dd",
            "79bd3489a3154ae289348d9e11902b09",
            "25f84631486d427194d829cbff92dab1",
            "f47921ca87364119add35c66f7cafc22",
            "39f04921332543db9382986d987f5104",
            "69ce13994f30404c953a850df771ec99",
            "2d51c994aaff444689ffd77ec9967e4c",
            "f0e5ff62f2c34e018e737add9b2ac7fa",
            "5d74bd9390e04314b55b67f9ad8e94f0",
            "ecb8147256a049ed8ec78586bf8e85df",
            "04dcd1a9d2f94327b67d1efca6170216",
            "8fa596704a364dd5ad5b76266a1faecb",
            "2602c9f3956245b1b0a8aa04e9ca4fcb",
            "18ac029fd2cb4061b92a76f9bdb3d023",
            "9ad9dfdfa9b64d8b8bced9d5f4608646",
            "c7668539809c44d1b2cc5d96a1c9b321",
            "f917c929790940cda8f8bb5511979b51",
            "5e7bcdf9bbab49edaa5d92d3dd6eba52",
            "f7a8b9469a3e4994a41e5b8a8955b244",
            "9320b20c1e3e473281c1ca80ecb65ee5",
            "7265624e8e7c45698769ddff01ab12f8",
            "daebb4d5196247ecac7721f0014052d9",
            "a880c64054f94b068d44d7a85798e245",
            "6c6caa53ca2e466aa3fd4b4faea58820",
            "6c363a16a4a74adcb62c4cf40924ef57"
          ]
        },
        "id": "-_V9RbxafpdY",
        "outputId": "01f5c17b-d6eb-4081-bca3-fff9d57dfdc6"
      },
      "outputs": [
        {
          "output_type": "display_data",
          "data": {
            "text/plain": [
              "tokenizer_config.json:   0%|          | 0.00/985 [00:00<?, ?B/s]"
            ],
            "application/vnd.jupyter.widget-view+json": {
              "version_major": 2,
              "version_minor": 0,
              "model_id": "fd9b4015dd7f4667b26739a9da59eed4"
            }
          },
          "metadata": {}
        },
        {
          "output_type": "display_data",
          "data": {
            "text/plain": [
              "tokenizer.model:   0%|          | 0.00/500k [00:00<?, ?B/s]"
            ],
            "application/vnd.jupyter.widget-view+json": {
              "version_major": 2,
              "version_minor": 0,
              "model_id": "046d4baac5534f239acb742d0bf01b56"
            }
          },
          "metadata": {}
        },
        {
          "output_type": "display_data",
          "data": {
            "text/plain": [
              "tokenizer.json:   0%|          | 0.00/1.85M [00:00<?, ?B/s]"
            ],
            "application/vnd.jupyter.widget-view+json": {
              "version_major": 2,
              "version_minor": 0,
              "model_id": "09eb8f8dc98e450186df74cc8707f81f"
            }
          },
          "metadata": {}
        },
        {
          "output_type": "display_data",
          "data": {
            "text/plain": [
              "added_tokens.json:   0%|          | 0.00/195 [00:00<?, ?B/s]"
            ],
            "application/vnd.jupyter.widget-view+json": {
              "version_major": 2,
              "version_minor": 0,
              "model_id": "f47921ca87364119add35c66f7cafc22"
            }
          },
          "metadata": {}
        },
        {
          "output_type": "display_data",
          "data": {
            "text/plain": [
              "special_tokens_map.json:   0%|          | 0.00/623 [00:00<?, ?B/s]"
            ],
            "application/vnd.jupyter.widget-view+json": {
              "version_major": 2,
              "version_minor": 0,
              "model_id": "9ad9dfdfa9b64d8b8bced9d5f4608646"
            }
          },
          "metadata": {}
        }
      ],
      "source": [
        "from haystack.components.generators import HuggingFaceTGIGenerator\n",
        "\n",
        "generator = HuggingFaceTGIGenerator(model=\"Nexusflow/NexusRaven-V2-13B\",\n",
        "                                    url=\"http://38.142.9.20:10240\",\n",
        "                                    stop_words=[\"<bot_end>\"],\n",
        "                                    generation_kwargs={\"temperature\":0.001,\n",
        "                                                      \"do_sample\" : False,\n",
        "                                                       \"max_new_tokens\" : 1000})\n",
        "generator.warm_up()"
      ]
    },
    {
      "cell_type": "markdown",
      "metadata": {
        "id": "cp4hJ34JivkB"
      },
      "source": [
        "To understand how to prompt the model, give a look at the [Prompting notebook](https://github.com/nexusflowai/NexusRaven-V2/blob/master/How-To-Prompt.ipynb).\n",
        "Later we will see how to better organize the prompt for our purpose."
      ]
    },
    {
      "cell_type": "code",
      "execution_count": 3,
      "metadata": {
        "id": "MdU98plyfdZ1"
      },
      "outputs": [],
      "source": [
        "prompt='''\n",
        "Function:\n",
        "def get_weather_data(coordinates):\n",
        "    \"\"\"\n",
        "    Fetches weather data from the Open-Meteo API for the given latitude and longitude.\n",
        "\n",
        "    Args:\n",
        "    coordinates (tuple): The latitude of the location.\n",
        "\n",
        "    Returns:\n",
        "    float: The current temperature in the coordinates you've asked for\n",
        "    \"\"\"\n",
        "\n",
        "Function:\n",
        "def get_coordinates_from_city(city_name):\n",
        "    \"\"\"\n",
        "    Fetches the latitude and longitude of a given city name using the Maps.co Geocoding API.\n",
        "\n",
        "    Args:\n",
        "    city_name (str): The name of the city.\n",
        "\n",
        "    Returns:\n",
        "    tuple: The latitude and longitude of the city.\n",
        "    \"\"\"\n",
        "\n",
        "User Query: What's the weather like in Seattle right now?<human_end>\n",
        "\n",
        "'''"
      ]
    },
    {
      "cell_type": "code",
      "execution_count": 4,
      "metadata": {
        "colab": {
          "base_uri": "https://localhost:8080/"
        },
        "id": "iPIqKQe8j2wX",
        "outputId": "55184a19-d560-4de3-d49d-25ee4c4f1b18"
      },
      "outputs": [
        {
          "output_type": "stream",
          "name": "stdout",
          "text": [
            "{'replies': [\"Call: get_weather_data(coordinates=get_coordinates_from_city(city_name='Seattle'))\"], 'meta': [{'model': 'http://38.142.9.20:10240', 'index': 0, 'finish_reason': 'stop_sequence', 'usage': {'completion_tokens': 29, 'prompt_tokens': 188, 'total_tokens': 217}}]}\n"
          ]
        }
      ],
      "source": [
        "print(generator.run(prompt=prompt))"
      ]
    },
    {
      "cell_type": "markdown",
      "metadata": {
        "id": "4zvaVXFcmy2v"
      },
      "source": [
        "All good! ✅"
      ]
    },
    {
      "cell_type": "markdown",
      "metadata": {
        "id": "uXiUvn0dsNj6"
      },
      "source": [
        "## Prompt template and Prompt Builder\n",
        "\n",
        "- The Prompt template to apply is model specific. In our case, we customize a bit the original prompt which is available on [Prompting notebook](https://github.com/nexusflowai/NexusRaven-V2/blob/master/How-To-Prompt.ipynb).\n",
        "- In Haystack, the prompt template is rendered using the [Prompt Builder component](https://docs.haystack.deepset.ai/docs/promptbuilder)."
      ]
    },
    {
      "cell_type": "code",
      "execution_count": 5,
      "metadata": {
        "id": "mhcao8wYj9ew"
      },
      "outputs": [],
      "source": [
        "from haystack.components.builders import PromptBuilder\n",
        "\n",
        "prompt_template = '''\n",
        "Function:\n",
        "{{function}}\n",
        "User Query: Save data from the provided text. START TEXT:{{docs[0].content|replace(\"\\n\",\" \")|truncate(10000)}} END TEXT\n",
        "<human_end>'''\n",
        "\n",
        "prompt_builder = PromptBuilder(template=prompt_template)"
      ]
    },
    {
      "cell_type": "code",
      "execution_count": 6,
      "metadata": {
        "colab": {
          "base_uri": "https://localhost:8080/"
        },
        "id": "dNA4VHAtxsQR",
        "outputId": "c5e072e7-442c-44ef-e50b-e46d1d8b55dc"
      },
      "outputs": [
        {
          "output_type": "stream",
          "name": "stdout",
          "text": [
            "{'prompt': '\\nFunction:\\nmy fake function definition\\nUser Query: Save data from the provided text. START TEXT:my fake document END TEXT\\n<human_end>'}\n"
          ]
        }
      ],
      "source": [
        "# let's see if the Prompt Builder works properly\n",
        "\n",
        "from haystack import Document\n",
        "print(prompt_builder.run(docs=[Document(content=\"my fake document\")], function=\"my fake function definition\"))"
      ]
    },
    {
      "cell_type": "markdown",
      "metadata": {
        "id": "iOonBACL9eue"
      },
      "source": [
        "Nice ✅"
      ]
    },
    {
      "cell_type": "markdown",
      "metadata": {
        "id": "vlqZUbLqyTtT"
      },
      "source": [
        "## Other Components"
      ]
    },
    {
      "cell_type": "markdown",
      "metadata": {
        "id": "VFU0J3_nzdxz"
      },
      "source": [
        "The following Components are required for the Pipeline we are about to create. However, they are simple and there is no need to customize and try them, so we can instantiate them directly during Pipeline creation.\n",
        "\n",
        "- [LinkContentFetcher](https://docs.haystack.deepset.ai/docs/linkcontentfetcher): fetches the contents of the URLs you give it and returns a list of content streams.\n",
        "- [HTMLToDocument](https://docs.haystack.deepset.ai/docs/htmltodocument): converts HTML files to Documents.\n",
        "- [DocumentCleaner](https://docs.haystack.deepset.ai/docs/documentcleaner): make text documents more readable.\n",
        "\n"
      ]
    },
    {
      "cell_type": "markdown",
      "metadata": {
        "id": "ASq0gDuZ1Vn_"
      },
      "source": [
        "## Define a custom Component to parse and visualize the result\n",
        "\n",
        "The output of the model generation is a function call string.\n",
        "\n",
        "We are going to create a simple Haystack Component to appropriately parse this string and create a nice HTML visualization.\n",
        "\n",
        "For more information on Creating custom Components, see the [docs](https://docs.haystack.deepset.ai/docs/custom-components)."
      ]
    },
    {
      "cell_type": "code",
      "execution_count": 7,
      "metadata": {
        "id": "MWIXo9gOyTP6"
      },
      "outputs": [],
      "source": [
        "from haystack import component\n",
        "from typing import List, Optional\n",
        "import ast\n",
        "import re\n",
        "\n",
        "def val_to_color(val):\n",
        "  \"\"\"\n",
        "  Helper function to return a color based on the type/value of a variable\n",
        "  \"\"\"\n",
        "  if isinstance(val, list):\n",
        "    return \"#FFFEE0\"\n",
        "  if val is True:\n",
        "    return \"#90EE90\"\n",
        "  if val is False:\n",
        "    return \"#FFCCCB\"\n",
        "  return \"\"\n",
        "\n",
        "@component\n",
        "class FunctionCallParser:\n",
        "  \"\"\"\n",
        "  A component that parses the function call string and creates a HTML visualization\n",
        "  \"\"\"\n",
        "  @component.output_types(html_visualization=str)\n",
        "  def run(self, replies:List[str]):\n",
        "\n",
        "    print(replies)\n",
        "\n",
        "    func_call_str = replies[0].replace(\"Call:\", \"\").strip()\n",
        "\n",
        "    # sometimes the model output contains wrong expressions like \"'date=[...]\" or \"date'=...\"\n",
        "    # that can't be correctly parsed, so we remove these substrings\n",
        "    func_call_str=func_call_str.replace(\"'=\",\"=\")\n",
        "    func_call_str=re.sub(\"'([a-z]+)=\", \"\\g<1>=\", func_call_str)\n",
        "\n",
        "    func_call=ast.parse(func_call_str).body[0].value\n",
        "    kwargs = {arg.arg: ast.literal_eval(arg.value) for arg in func_call.keywords}\n",
        "\n",
        "    # Convert data to HTML format\n",
        "    html_content = '<div style=\"border: 1px solid #ccc; padding: 10px; border-radius: 5px; background-color: #f9f9f9;\">'\n",
        "    for key, value in kwargs.items():\n",
        "        html_content += f'<p><span style=\"font-family: Cursive; font-size: 30px;\">{key}:</span>'\n",
        "        html_content += f'&emsp;<span style=\"background-color:{val_to_color(value)}; font-family: Cursive; font-size: 20px;\">{value}</span></p>'\n",
        "    html_content += '</div>'\n",
        "\n",
        "    return {\"html_visualization\": html_content}"
      ]
    },
    {
      "cell_type": "markdown",
      "metadata": {
        "id": "pAMBYA7ZFEk0"
      },
      "source": [
        "## Create an Information Extraction Pipeline\n",
        "\n",
        "To combine the Components in an appropriate and reproducible way, we resort to Haystack Pipelines.\n",
        "The syntax should be easily understood. You can find more infomation [in the docs](https://docs.haystack.deepset.ai/docs/pipelines).\n",
        "\n",
        "This pipeline will extract the information from the given URL following the provided structure."
      ]
    },
    {
      "cell_type": "code",
      "execution_count": 8,
      "metadata": {
        "colab": {
          "base_uri": "https://localhost:8080/",
          "height": 1000
        },
        "id": "B9W73HI3yBHU",
        "outputId": "d885c6e5-14ae-4eb1-e0c6-254acc5b8ca9"
      },
      "outputs": [
        {
          "output_type": "display_data",
          "data": {
            "image/png": "[encoded data removed]",
            "text/plain": [
              "<IPython.core.display.Image object>"
            ]
          },
          "metadata": {}
        },
        {
          "output_type": "execute_result",
          "data": {
            "text/plain": []
          },
          "metadata": {},
          "execution_count": 8
        }
      ],
      "source": [
        "from haystack import Pipeline\n",
        "from haystack.components.fetchers import LinkContentFetcher\n",
        "from haystack.components.converters import HTMLToDocument\n",
        "from haystack.components.preprocessors import DocumentCleaner\n",
        "\n",
        "pipe = Pipeline()\n",
        "\n",
        "pipe.add_component(\"fetcher\", LinkContentFetcher())\n",
        "pipe.add_component(\"converter\", HTMLToDocument(extractor_type=\"DefaultExtractor\"))\n",
        "pipe.add_component(\"cleaner\", DocumentCleaner())\n",
        "pipe.add_component(\"prompt_builder\", prompt_builder)\n",
        "pipe.add_component(\"generator\", generator)\n",
        "pipe.add_component(\"parser\", FunctionCallParser())\n",
        "\n",
        "pipe.connect(\"fetcher\", \"converter\")\n",
        "pipe.connect(\"converter\", \"cleaner\")\n",
        "pipe.connect(\"cleaner.documents\", \"prompt_builder.docs\")\n",
        "pipe.connect(\"prompt_builder\", \"generator\")\n",
        "pipe.connect(\"generator\", \"parser\")"
      ]
    },
    {
      "cell_type": "markdown",
      "metadata": {
        "id": "5fCLeNtVLJLm"
      },
      "source": [
        "Now we create an `extract` function that wraps the Pipeline and displays the result in the HTML format.\n",
        "This will accept:\n",
        "- a `function` dict, containing the structure definition of the information we want to extract\n",
        "- a `url`, to use as data source"
      ]
    },
    {
      "cell_type": "code",
      "execution_count": 9,
      "metadata": {
        "id": "r0fsBycdFxzV"
      },
      "outputs": [],
      "source": [
        "from IPython.display import display, HTML\n",
        "\n",
        "def extract(function:str, url:str) -> dict:\n",
        "  if not function:\n",
        "    raise ValueError(\"function definition is needed\")\n",
        "  if not url:\n",
        "    raise ValueError(\"URL is needed\")\n",
        "\n",
        "  data_for_pipeline = {\"fetcher\":{\"urls\":[url]},\n",
        "                       \"prompt_builder\":{\"function\":function}}\n",
        "\n",
        "  html_visualization = pipe.run(data=data_for_pipeline)['parser']['html_visualization']\n",
        "  display(HTML(html_visualization))"
      ]
    },
    {
      "cell_type": "markdown",
      "metadata": {
        "id": "furABTbcV57u"
      },
      "source": [
        "## 🕹️ Try our application!"
      ]
    },
    {
      "cell_type": "markdown",
      "metadata": {
        "id": "_zgm1yj6WHf7"
      },
      "source": [
        "Let's first define the structure to extract.\n",
        "\n",
        "We are going to parse some news articles about animals... 🦆🐻🦌"
      ]
    },
    {
      "cell_type": "code",
      "execution_count": 10,
      "metadata": {
        "id": "dWtLYYacGGht"
      },
      "outputs": [],
      "source": [
        "function = '''def save_data(about_animals: bool, about_ai: bool, habitat:List[string], predators:List[string], diet:List[string]):\n",
        "    \"\"\"\n",
        "    Save data extracted from source text\n",
        "\n",
        "    Args:\n",
        "    about_animals (bool): Is the article about animals?\n",
        "    about_ai (bool): Is the article about artificial intelligence?\n",
        "    habitat (List[string]): List of places where the animal lives\n",
        "    predators (List[string]): What are the animals that threaten them?\n",
        "    diet (List[string]): What does the animal eat?\n",
        "    \"\"\"'''"
      ]
    },
    {
      "cell_type": "markdown",
      "metadata": {
        "id": "bm5ikRkUXEl2"
      },
      "source": [
        "Let's start with an article about **Capybaras**"
      ]
    },
    {
      "cell_type": "code",
      "execution_count": 11,
      "metadata": {
        "colab": {
          "base_uri": "https://localhost:8080/",
          "height": 299
        },
        "id": "8JWzR5ZsGP_F",
        "outputId": "b9f661a8-5e56-46ee-ca56-627397903d07"
      },
      "outputs": [
        {
          "output_type": "stream",
          "name": "stdout",
          "text": [
            "[\"\\nCall: save_data(about_animals=True, about_ai=False, habitat=['Panama', 'Colombia', 'Venezuela', 'Guyana', 'Peru', 'Brazil', 'Paraguay', 'Northeast Argentina', 'Uruguay'], predators=['jaguars', 'caimans', 'anacondas', 'ocelots', 'harpy eagles'], diet=['vegetation', 'grass', 'grains', 'melons', 'reeds', 'squashes'])\"]\n"
          ]
        },
        {
          "output_type": "display_data",
          "data": {
            "text/plain": [
              "<IPython.core.display.HTML object>"
            ],
            "text/html": [
              "<div style=\"border: 1px solid #ccc; padding: 10px; border-radius: 5px; background-color: #f9f9f9;\"><p><span style=\"font-family: Cursive; font-size: 30px;\">about_animals:</span>&emsp;<span style=\"background-color:#90EE90; font-family: Cursive; font-size: 20px;\">True</span></p><p><span style=\"font-family: Cursive; font-size: 30px;\">about_ai:</span>&emsp;<span style=\"background-color:#FFCCCB; font-family: Cursive; font-size: 20px;\">False</span></p><p><span style=\"font-family: Cursive; font-size: 30px;\">habitat:</span>&emsp;<span style=\"background-color:#FFFEE0; font-family: Cursive; font-size: 20px;\">['Panama', 'Colombia', 'Venezuela', 'Guyana', 'Peru', 'Brazil', 'Paraguay', 'Northeast Argentina', 'Uruguay']</span></p><p><span style=\"font-family: Cursive; font-size: 30px;\">predators:</span>&emsp;<span style=\"background-color:#FFFEE0; font-family: Cursive; font-size: 20px;\">['jaguars', 'caimans', 'anacondas', 'ocelots', 'harpy eagles']</span></p><p><span style=\"font-family: Cursive; font-size: 30px;\">diet:</span>&emsp;<span style=\"background-color:#FFFEE0; font-family: Cursive; font-size: 20px;\">['vegetation', 'grass', 'grains', 'melons', 'reeds', 'squashes']</span></p></div>"
            ]
          },
          "metadata": {}
        }
      ],
      "source": [
        "extract(function=function, url=\"https://www.rainforest-alliance.org/species/capybara/\")"
      ]
    },
    {
      "cell_type": "markdown",
      "metadata": {
        "id": "brMOC5q3XjeD"
      },
      "source": [
        "Now let's try with an article about the **Andean cock of the rock**"
      ]
    },
    {
      "cell_type": "code",
      "execution_count": 12,
      "metadata": {
        "colab": {
          "base_uri": "https://localhost:8080/",
          "height": 299
        },
        "id": "5qPN4yB3gwMh",
        "outputId": "8a0706e2-fde6-4077-f08d-a6d9a3f1fb93"
      },
      "outputs": [
        {
          "output_type": "stream",
          "name": "stdout",
          "text": [
            "[\"\\nCall: save_data(about_animals=True, about_ai=False, habitat=['Andes'], predators=['birds of prey', 'puma', 'jaguars', 'boa constrictors'], diet=['fruit', 'insects', 'small vertebrates'])\"]\n"
          ]
        },
        {
          "output_type": "display_data",
          "data": {
            "text/plain": [
              "<IPython.core.display.HTML object>"
            ],
            "text/html": [
              "<div style=\"border: 1px solid #ccc; padding: 10px; border-radius: 5px; background-color: #f9f9f9;\"><p><span style=\"font-family: Cursive; font-size: 30px;\">about_animals:</span>&emsp;<span style=\"background-color:#90EE90; font-family: Cursive; font-size: 20px;\">True</span></p><p><span style=\"font-family: Cursive; font-size: 30px;\">about_ai:</span>&emsp;<span style=\"background-color:#FFCCCB; font-family: Cursive; font-size: 20px;\">False</span></p><p><span style=\"font-family: Cursive; font-size: 30px;\">habitat:</span>&emsp;<span style=\"background-color:#FFFEE0; font-family: Cursive; font-size: 20px;\">['Andes']</span></p><p><span style=\"font-family: Cursive; font-size: 30px;\">predators:</span>&emsp;<span style=\"background-color:#FFFEE0; font-family: Cursive; font-size: 20px;\">['birds of prey', 'puma', 'jaguars', 'boa constrictors']</span></p><p><span style=\"font-family: Cursive; font-size: 30px;\">diet:</span>&emsp;<span style=\"background-color:#FFFEE0; font-family: Cursive; font-size: 20px;\">['fruit', 'insects', 'small vertebrates']</span></p></div>"
            ]
          },
          "metadata": {}
        }
      ],
      "source": [
        "extract(function=function, url=\"https://www.rainforest-alliance.org/species/cock-rock/\")"
      ]
    },
    {
      "cell_type": "markdown",
      "metadata": {
        "id": "_rQhVWTkaSkw"
      },
      "source": [
        "Now, the **Yucatan Deer**!"
      ]
    },
    {
      "cell_type": "code",
      "execution_count": 13,
      "metadata": {
        "colab": {
          "base_uri": "https://localhost:8080/",
          "height": 299
        },
        "id": "L3SCmn5IkOFE",
        "outputId": "84aaf990-c5fc-4b27-9fd5-f41fd590e70d"
      },
      "outputs": [
        {
          "output_type": "stream",
          "name": "stdout",
          "text": [
            "[\"\\nCall: save_data(about_animals=True, about_ai=False, habitat=['forests', 'deciduous forests', 'forest edges', 'open fields'], predators=['cougar', 'jaguar'], diet=['grass', 'leaves', 'sprouts', 'lichens', 'mosses', 'tree bark', 'fruit'])\"]\n"
          ]
        },
        {
          "output_type": "display_data",
          "data": {
            "text/plain": [
              "<IPython.core.display.HTML object>"
            ],
            "text/html": [
              "<div style=\"border: 1px solid #ccc; padding: 10px; border-radius: 5px; background-color: #f9f9f9;\"><p><span style=\"font-family: Cursive; font-size: 30px;\">about_animals:</span>&emsp;<span style=\"background-color:#90EE90; font-family: Cursive; font-size: 20px;\">True</span></p><p><span style=\"font-family: Cursive; font-size: 30px;\">about_ai:</span>&emsp;<span style=\"background-color:#FFCCCB; font-family: Cursive; font-size: 20px;\">False</span></p><p><span style=\"font-family: Cursive; font-size: 30px;\">habitat:</span>&emsp;<span style=\"background-color:#FFFEE0; font-family: Cursive; font-size: 20px;\">['forests', 'deciduous forests', 'forest edges', 'open fields']</span></p><p><span style=\"font-family: Cursive; font-size: 30px;\">predators:</span>&emsp;<span style=\"background-color:#FFFEE0; font-family: Cursive; font-size: 20px;\">['cougar', 'jaguar']</span></p><p><span style=\"font-family: Cursive; font-size: 30px;\">diet:</span>&emsp;<span style=\"background-color:#FFFEE0; font-family: Cursive; font-size: 20px;\">['grass', 'leaves', 'sprouts', 'lichens', 'mosses', 'tree bark', 'fruit']</span></p></div>"
            ]
          },
          "metadata": {}
        }
      ],
      "source": [
        "extract(function=function, url=\"https://www.rainforest-alliance.org/species/yucatan-deer/\")"
      ]
    },
    {
      "cell_type": "markdown",
      "metadata": {
        "id": "zcC95R5dcozT"
      },
      "source": [
        "A completely different example, about AI..."
      ]
    },
    {
      "cell_type": "code",
      "execution_count": 14,
      "metadata": {
        "id": "BbK-q_6NcvrT"
      },
      "outputs": [],
      "source": [
        "function='''def save_data(people:List[string], companies:List[string], summary:string, topics:List[string], about_animals: bool, about_ai: bool):\n",
        "    \"\"\"\n",
        "    Save data extracted from source text\n",
        "\n",
        "    Args:\n",
        "    people (List[string]): List of the mentioned people\n",
        "    companies (List[string]): List of the mentioned companies.\n",
        "    summary (string): Summarize briefly what happened in one sentence of max 15 words.\n",
        "    topics (List[string]): what are the five most important topics?\n",
        "    about_animals (bool): Is the article about animals?\n",
        "    about_ai (bool): Is the article about artificial intelligence?\n",
        "    \"\"\"'''\n"
      ]
    },
    {
      "cell_type": "code",
      "execution_count": 15,
      "metadata": {
        "colab": {
          "base_uri": "https://localhost:8080/",
          "height": 342
        },
        "id": "BU1ehEqtKEui",
        "outputId": "6ee2da7d-7491-4dd5-8b95-d81a182f73f5"
      },
      "outputs": [
        {
          "output_type": "stream",
          "name": "stdout",
          "text": [
            "[\"\\nCall: save_data(people=['Sam Altman', 'Greg Brockman', 'Bret Taylor', 'Larry Summers', 'Adam D’Angelo', 'Satya Nadella', 'Thrive Capital', 'Kelly Sims', 'Helen Toner', 'Ilya Sutskever', 'Emmett Shear'], companies=['OpenAI', 'Microsoft'], summary='Sam Altman will return as CEO of OpenAI, overcoming an attempted boardroom coup that sent the company into chaos over the past several days.', topics=['OpenAI', 'Artificial intelligence', 'Machine learning', 'Computer vision', 'Natural language processing'], about_animals=False, about_ai=True)\"]\n"
          ]
        },
        {
          "output_type": "display_data",
          "data": {
            "text/plain": [
              "<IPython.core.display.HTML object>"
            ],
            "text/html": [
              "<div style=\"border: 1px solid #ccc; padding: 10px; border-radius: 5px; background-color: #f9f9f9;\"><p><span style=\"font-family: Cursive; font-size: 30px;\">people:</span>&emsp;<span style=\"background-color:#FFFEE0; font-family: Cursive; font-size: 20px;\">['Sam Altman', 'Greg Brockman', 'Bret Taylor', 'Larry Summers', 'Adam D’Angelo', 'Satya Nadella', 'Thrive Capital', 'Kelly Sims', 'Helen Toner', 'Ilya Sutskever', 'Emmett Shear']</span></p><p><span style=\"font-family: Cursive; font-size: 30px;\">companies:</span>&emsp;<span style=\"background-color:#FFFEE0; font-family: Cursive; font-size: 20px;\">['OpenAI', 'Microsoft']</span></p><p><span style=\"font-family: Cursive; font-size: 30px;\">summary:</span>&emsp;<span style=\"background-color:; font-family: Cursive; font-size: 20px;\">Sam Altman will return as CEO of OpenAI, overcoming an attempted boardroom coup that sent the company into chaos over the past several days.</span></p><p><span style=\"font-family: Cursive; font-size: 30px;\">topics:</span>&emsp;<span style=\"background-color:#FFFEE0; font-family: Cursive; font-size: 20px;\">['OpenAI', 'Artificial intelligence', 'Machine learning', 'Computer vision', 'Natural language processing']</span></p><p><span style=\"font-family: Cursive; font-size: 30px;\">about_animals:</span>&emsp;<span style=\"background-color:#FFCCCB; font-family: Cursive; font-size: 20px;\">False</span></p><p><span style=\"font-family: Cursive; font-size: 30px;\">about_ai:</span>&emsp;<span style=\"background-color:#90EE90; font-family: Cursive; font-size: 20px;\">True</span></p></div>"
            ]
          },
          "metadata": {}
        }
      ],
      "source": [
        "extract(function=function, url=\"https://www.theverge.com/2023/11/22/23967223/sam-altman-returns-ceo-open-ai\")"
      ]
    },
    {
      "cell_type": "code",
      "execution_count": 16,
      "metadata": {
        "colab": {
          "base_uri": "https://localhost:8080/",
          "height": 342
        },
        "id": "F25HLBf55sWm",
        "outputId": "cb183039-7ec6-4542-c58e-242b5bd925cc"
      },
      "outputs": [
        {
          "output_type": "stream",
          "name": "stdout",
          "text": [
            "[\"\\nCall: save_data(people=['Sam Bankman-Fried'], companies=['FTX'], summary='Sam Bankman-Fried will not face second trial after multibillion-dollar crypto fraud conviction', topics=['crypto fraud', 'FTX', 'cryptocurrency exchange'], about_animals=False, about_ai=False)\"]\n"
          ]
        },
        {
          "output_type": "display_data",
          "data": {
            "text/plain": [
              "<IPython.core.display.HTML object>"
            ],
            "text/html": [
              "<div style=\"border: 1px solid #ccc; padding: 10px; border-radius: 5px; background-color: #f9f9f9;\"><p><span style=\"font-family: Cursive; font-size: 30px;\">people:</span>&emsp;<span style=\"background-color:#FFFEE0; font-family: Cursive; font-size: 20px;\">['Sam Bankman-Fried']</span></p><p><span style=\"font-family: Cursive; font-size: 30px;\">companies:</span>&emsp;<span style=\"background-color:#FFFEE0; font-family: Cursive; font-size: 20px;\">['FTX']</span></p><p><span style=\"font-family: Cursive; font-size: 30px;\">summary:</span>&emsp;<span style=\"background-color:; font-family: Cursive; font-size: 20px;\">Sam Bankman-Fried will not face second trial after multibillion-dollar crypto fraud conviction</span></p><p><span style=\"font-family: Cursive; font-size: 30px;\">topics:</span>&emsp;<span style=\"background-color:#FFFEE0; font-family: Cursive; font-size: 20px;\">['crypto fraud', 'FTX', 'cryptocurrency exchange']</span></p><p><span style=\"font-family: Cursive; font-size: 30px;\">about_animals:</span>&emsp;<span style=\"background-color:#FFCCCB; font-family: Cursive; font-size: 20px;\">False</span></p><p><span style=\"font-family: Cursive; font-size: 30px;\">about_ai:</span>&emsp;<span style=\"background-color:#FFCCCB; font-family: Cursive; font-size: 20px;\">False</span></p></div>"
            ]
          },
          "metadata": {}
        }
      ],
      "source": [
        "extract(function=function, url=\"https://www.theguardian.com/business/2023/dec/30/sam-bankman-fried-will-not-face-second-trial-after-multibillion-dollar-crypto-conviction\")"
      ]
    },
    {
      "cell_type": "code",
      "execution_count": 17,
      "metadata": {
        "colab": {
          "base_uri": "https://localhost:8080/",
          "height": 342
        },
        "id": "oWVKkOU_thgm",
        "outputId": "4cd7745d-8584-4da0-8d21-b39497cc040b"
      },
      "outputs": [
        {
          "output_type": "stream",
          "name": "stdout",
          "text": [
            "[\"\\nCall: save_data(people=['Michelle Toh', 'Wayne Chang', 'Jensen Huang', 'Lisa Su'], companies=['Nvidia', 'AMD'], summary='The Taiwanese American cousins going head-to-head in the global AI race', topics=['chip industry', 'global AI chip industry', 'Taiwanese descent', 'semiconductors', 'generative AI'], about_animals=False, about_ai=True)\"]\n"
          ]
        },
        {
          "output_type": "display_data",
          "data": {
            "text/plain": [
              "<IPython.core.display.HTML object>"
            ],
            "text/html": [
              "<div style=\"border: 1px solid #ccc; padding: 10px; border-radius: 5px; background-color: #f9f9f9;\"><p><span style=\"font-family: Cursive; font-size: 30px;\">people:</span>&emsp;<span style=\"background-color:#FFFEE0; font-family: Cursive; font-size: 20px;\">['Michelle Toh', 'Wayne Chang', 'Jensen Huang', 'Lisa Su']</span></p><p><span style=\"font-family: Cursive; font-size: 30px;\">companies:</span>&emsp;<span style=\"background-color:#FFFEE0; font-family: Cursive; font-size: 20px;\">['Nvidia', 'AMD']</span></p><p><span style=\"font-family: Cursive; font-size: 30px;\">summary:</span>&emsp;<span style=\"background-color:; font-family: Cursive; font-size: 20px;\">The Taiwanese American cousins going head-to-head in the global AI race</span></p><p><span style=\"font-family: Cursive; font-size: 30px;\">topics:</span>&emsp;<span style=\"background-color:#FFFEE0; font-family: Cursive; font-size: 20px;\">['chip industry', 'global AI chip industry', 'Taiwanese descent', 'semiconductors', 'generative AI']</span></p><p><span style=\"font-family: Cursive; font-size: 30px;\">about_animals:</span>&emsp;<span style=\"background-color:#FFCCCB; font-family: Cursive; font-size: 20px;\">False</span></p><p><span style=\"font-family: Cursive; font-size: 30px;\">about_ai:</span>&emsp;<span style=\"background-color:#90EE90; font-family: Cursive; font-size: 20px;\">True</span></p></div>"
            ]
          },
          "metadata": {}
        }
      ],
      "source": [
        "extract(function=function, url=\"https://lite.cnn.com/2023/11/05/tech/nvidia-amd-ceos-taiwan-intl-hnk/index.html\")"
      ]
    },
    {
      "cell_type": "markdown",
      "metadata": {
        "id": "mG-W-d9Le-sp"
      },
      "source": [
        "## ✨ Conclusions and caveats\n",
        "- Nexus Raven seems to work much better than Gorilla Open Functions (v0) for this use case.\n",
        "- I would also expect it to work significantly better than generic models to which grammars are added to make them produce JSON.\n",
        "- ⚠️ When the content of the web page is cluttered with extraneous information such as advertisements and interruptions, the model encounters difficulty in extracting relevant information, leading to occasional instances where it returns empty responses.\n",
        "- ⚠️ As a statistical model, the LLM is highly responsive to prompts. For instance, modifying the order and description of the specified arguments can yield different extraction results."
      ]
    },
    {
      "cell_type": "markdown",
      "metadata": {
        "id": "xNAXyTefgpRX"
      },
      "source": [
        "## 📚 References\n",
        "*Related to the experiment*\n",
        "- [Haystack LLM framework](https://haystack.deepset.ai/)\n",
        "- [Using OpenAI Function Calling for Information Extraction: gist by Kyle McDonald](https://gist.github.com/kylemcdonald/dbac21de2d7855633689f5526225154c)\n",
        "- [NexusRaven-V2: Surpassing GPT-4 for Zero-shot Function Calling](https://nexusflow.ai/blogs/ravenv2)"
      ]
    }
  ],
  "metadata": {
    "colab": {
      "collapsed_sections": [
        "Qd4cBgege7PW",
        "-3GvBu0Ffp9I",
        "uXiUvn0dsNj6",
        "vlqZUbLqyTtT",
        "ASq0gDuZ1Vn_",
        "pAMBYA7ZFEk0"
      ],
      "provenance": [],
      "gpuType": "T4",
      "include_colab_link": true
    },
    "kernelspec": {
      "display_name": "Python 3",
      "name": "python3"
    },
    "language_info": {
      "name": "python"
    },
    "widgets": {
      "application/vnd.jupyter.widget-state+json": {
        "fd9b4015dd7f4667b26739a9da59eed4": {
          "model_module": "@jupyter-widgets/controls",
          "model_name": "HBoxModel",
          "model_module_version": "1.5.0",
          "state": {
            "_dom_classes": [],
            "_model_module": "@jupyter-widgets/controls",
            "_model_module_version": "1.5.0",
            "_model_name": "HBoxModel",
            "_view_count": null,
            "_view_module": "@jupyter-widgets/controls",
            "_view_module_version": "1.5.0",
            "_view_name": "HBoxView",
            "box_style": "",
            "children": [
              "IPY_MODEL_1c6df869760b48bb8198b03d92fd8c67",
              "IPY_MODEL_8c4b3b5bbeb94086801264954557f0a6",
              "IPY_MODEL_6f397359b5bf484fa83917db682da042"
            ],
            "layout": "IPY_MODEL_9f8eb5d6dca14441822c3982eb217e05"
          }
        },
        "1c6df869760b48bb8198b03d92fd8c67": {
          "model_module": "@jupyter-widgets/controls",
          "model_name": "HTMLModel",
          "model_module_version": "1.5.0",
          "state": {
            "_dom_classes": [],
            "_model_module": "@jupyter-widgets/controls",
            "_model_module_version": "1.5.0",
            "_model_name": "HTMLModel",
            "_view_count": null,
            "_view_module": "@jupyter-widgets/controls",
            "_view_module_version": "1.5.0",
            "_view_name": "HTMLView",
            "description": "",
            "description_tooltip": null,
            "layout": "IPY_MODEL_bff64dd656f1448fa16781ea7325c658",
            "placeholder": "​",
            "style": "IPY_MODEL_0f1e7344b53a46018fe2950e9ab5e987",
            "value": "tokenizer_config.json: 100%"
          }
        },
        "8c4b3b5bbeb94086801264954557f0a6": {
          "model_module": "@jupyter-widgets/controls",
          "model_name": "FloatProgressModel",
          "model_module_version": "1.5.0",
          "state": {
            "_dom_classes": [],
            "_model_module": "@jupyter-widgets/controls",
            "_model_module_version": "1.5.0",
            "_model_name": "FloatProgressModel",
            "_view_count": null,
            "_view_module": "@jupyter-widgets/controls",
            "_view_module_version": "1.5.0",
            "_view_name": "ProgressView",
            "bar_style": "success",
            "description": "",
            "description_tooltip": null,
            "layout": "IPY_MODEL_15df806b915e49969ed1ca47b45e9ca9",
            "max": 985,
            "min": 0,
            "orientation": "horizontal",
            "style": "IPY_MODEL_3e62a9cdde824c94aa8ba108a160f7d2",
            "value": 985
          }
        },
        "6f397359b5bf484fa83917db682da042": {
          "model_module": "@jupyter-widgets/controls",
          "model_name": "HTMLModel",
          "model_module_version": "1.5.0",
          "state": {
            "_dom_classes": [],
            "_model_module": "@jupyter-widgets/controls",
            "_model_module_version": "1.5.0",
            "_model_name": "HTMLModel",
            "_view_count": null,
            "_view_module": "@jupyter-widgets/controls",
            "_view_module_version": "1.5.0",
            "_view_name": "HTMLView",
            "description": "",
            "description_tooltip": null,
            "layout": "IPY_MODEL_b455ad30f5be4ba893451284c7bcef21",
            "placeholder": "​",
            "style": "IPY_MODEL_abec50b394b246a08555189a3d33e31b",
            "value": " 985/985 [00:00&lt;00:00, 20.7kB/s]"
          }
        },
        "9f8eb5d6dca14441822c3982eb217e05": {
          "model_module": "@jupyter-widgets/base",
          "model_name": "LayoutModel",
          "model_module_version": "1.2.0",
          "state": {
            "_model_module": "@jupyter-widgets/base",
            "_model_module_version": "1.2.0",
            "_model_name": "LayoutModel",
            "_view_count": null,
            "_view_module": "@jupyter-widgets/base",
            "_view_module_version": "1.2.0",
            "_view_name": "LayoutView",
            "align_content": null,
            "align_items": null,
            "align_self": null,
            "border": null,
            "bottom": null,
            "display": null,
            "flex": null,
            "flex_flow": null,
            "grid_area": null,
            "grid_auto_columns": null,
            "grid_auto_flow": null,
            "grid_auto_rows": null,
            "grid_column": null,
            "grid_gap": null,
            "grid_row": null,
            "grid_template_areas": null,
            "grid_template_columns": null,
            "grid_template_rows": null,
            "height": null,
            "justify_content": null,
            "justify_items": null,
            "left": null,
            "margin": null,
            "max_height": null,
            "max_width": null,
            "min_height": null,
            "min_width": null,
            "object_fit": null,
            "object_position": null,
            "order": null,
            "overflow": null,
            "overflow_x": null,
            "overflow_y": null,
            "padding": null,
            "right": null,
            "top": null,
            "visibility": null,
            "width": null
          }
        },
        "bff64dd656f1448fa16781ea7325c658": {
          "model_module": "@jupyter-widgets/base",
          "model_name": "LayoutModel",
          "model_module_version": "1.2.0",
          "state": {
            "_model_module": "@jupyter-widgets/base",
            "_model_module_version": "1.2.0",
            "_model_name": "LayoutModel",
            "_view_count": null,
            "_view_module": "@jupyter-widgets/base",
            "_view_module_version": "1.2.0",
            "_view_name": "LayoutView",
            "align_content": null,
            "align_items": null,
            "align_self": null,
            "border": null,
            "bottom": null,
            "display": null,
            "flex": null,
            "flex_flow": null,
            "grid_area": null,
            "grid_auto_columns": null,
            "grid_auto_flow": null,
            "grid_auto_rows": null,
            "grid_column": null,
            "grid_gap": null,
            "grid_row": null,
            "grid_template_areas": null,
            "grid_template_columns": null,
            "grid_template_rows": null,
            "height": null,
            "justify_content": null,
            "justify_items": null,
            "left": null,
            "margin": null,
            "max_height": null,
            "max_width": null,
            "min_height": null,
            "min_width": null,
            "object_fit": null,
            "object_position": null,
            "order": null,
            "overflow": null,
            "overflow_x": null,
            "overflow_y": null,
            "padding": null,
            "right": null,
            "top": null,
            "visibility": null,
            "width": null
          }
        },
        "0f1e7344b53a46018fe2950e9ab5e987": {
          "model_module": "@jupyter-widgets/controls",
          "model_name": "DescriptionStyleModel",
          "model_module_version": "1.5.0",
          "state": {
            "_model_module": "@jupyter-widgets/controls",
            "_model_module_version": "1.5.0",
            "_model_name": "DescriptionStyleModel",
            "_view_count": null,
            "_view_module": "@jupyter-widgets/base",
            "_view_module_version": "1.2.0",
            "_view_name": "StyleView",
            "description_width": ""
          }
        },
        "15df806b915e49969ed1ca47b45e9ca9": {
          "model_module": "@jupyter-widgets/base",
          "model_name": "LayoutModel",
          "model_module_version": "1.2.0",
          "state": {
            "_model_module": "@jupyter-widgets/base",
            "_model_module_version": "1.2.0",
            "_model_name": "LayoutModel",
            "_view_count": null,
            "_view_module": "@jupyter-widgets/base",
            "_view_module_version": "1.2.0",
            "_view_name": "LayoutView",
            "align_content": null,
            "align_items": null,
            "align_self": null,
            "border": null,
            "bottom": null,
            "display": null,
            "flex": null,
            "flex_flow": null,
            "grid_area": null,
            "grid_auto_columns": null,
            "grid_auto_flow": null,
            "grid_auto_rows": null,
            "grid_column": null,
            "grid_gap": null,
            "grid_row": null,
            "grid_template_areas": null,
            "grid_template_columns": null,
            "grid_template_rows": null,
            "height": null,
            "justify_content": null,
            "justify_items": null,
            "left": null,
            "margin": null,
            "max_height": null,
            "max_width": null,
            "min_height": null,
            "min_width": null,
            "object_fit": null,
            "object_position": null,
            "order": null,
            "overflow": null,
            "overflow_x": null,
            "overflow_y": null,
            "padding": null,
            "right": null,
            "top": null,
            "visibility": null,
            "width": null
          }
        },
        "3e62a9cdde824c94aa8ba108a160f7d2": {
          "model_module": "@jupyter-widgets/controls",
          "model_name": "ProgressStyleModel",
          "model_module_version": "1.5.0",
          "state": {
            "_model_module": "@jupyter-widgets/controls",
            "_model_module_version": "1.5.0",
            "_model_name": "ProgressStyleModel",
            "_view_count": null,
            "_view_module": "@jupyter-widgets/base",
            "_view_module_version": "1.2.0",
            "_view_name": "StyleView",
            "bar_color": null,
            "description_width": ""
          }
        },
        "b455ad30f5be4ba893451284c7bcef21": {
          "model_module": "@jupyter-widgets/base",
          "model_name": "LayoutModel",
          "model_module_version": "1.2.0",
          "state": {
            "_model_module": "@jupyter-widgets/base",
            "_model_module_version": "1.2.0",
            "_model_name": "LayoutModel",
            "_view_count": null,
            "_view_module": "@jupyter-widgets/base",
            "_view_module_version": "1.2.0",
            "_view_name": "LayoutView",
            "align_content": null,
            "align_items": null,
            "align_self": null,
            "border": null,
            "bottom": null,
            "display": null,
            "flex": null,
            "flex_flow": null,
            "grid_area": null,
            "grid_auto_columns": null,
            "grid_auto_flow": null,
            "grid_auto_rows": null,
            "grid_column": null,
            "grid_gap": null,
            "grid_row": null,
            "grid_template_areas": null,
            "grid_template_columns": null,
            "grid_template_rows": null,
            "height": null,
            "justify_content": null,
            "justify_items": null,
            "left": null,
            "margin": null,
            "max_height": null,
            "max_width": null,
            "min_height": null,
            "min_width": null,
            "object_fit": null,
            "object_position": null,
            "order": null,
            "overflow": null,
            "overflow_x": null,
            "overflow_y": null,
            "padding": null,
            "right": null,
            "top": null,
            "visibility": null,
            "width": null
          }
        },
        "abec50b394b246a08555189a3d33e31b": {
          "model_module": "@jupyter-widgets/controls",
          "model_name": "DescriptionStyleModel",
          "model_module_version": "1.5.0",
          "state": {
            "_model_module": "@jupyter-widgets/controls",
            "_model_module_version": "1.5.0",
            "_model_name": "DescriptionStyleModel",
            "_view_count": null,
            "_view_module": "@jupyter-widgets/base",
            "_view_module_version": "1.2.0",
            "_view_name": "StyleView",
            "description_width": ""
          }
        },
        "046d4baac5534f239acb742d0bf01b56": {
          "model_module": "@jupyter-widgets/controls",
          "model_name": "HBoxModel",
          "model_module_version": "1.5.0",
          "state": {
            "_dom_classes": [],
            "_model_module": "@jupyter-widgets/controls",
            "_model_module_version": "1.5.0",
            "_model_name": "HBoxModel",
            "_view_count": null,
            "_view_module": "@jupyter-widgets/controls",
            "_view_module_version": "1.5.0",
            "_view_name": "HBoxView",
            "box_style": "",
            "children": [
              "IPY_MODEL_b92ae6ae1d014c5e8bb97c1798237f7e",
              "IPY_MODEL_f7b558a183d947238ab7a68e6a04ea3e",
              "IPY_MODEL_7de461a4b3ae4b629910ee718044a3b7"
            ],
            "layout": "IPY_MODEL_597fb1425d474a5ba73dc4b57f826e60"
          }
        },
        "b92ae6ae1d014c5e8bb97c1798237f7e": {
          "model_module": "@jupyter-widgets/controls",
          "model_name": "HTMLModel",
          "model_module_version": "1.5.0",
          "state": {
            "_dom_classes": [],
            "_model_module": "@jupyter-widgets/controls",
            "_model_module_version": "1.5.0",
            "_model_name": "HTMLModel",
            "_view_count": null,
            "_view_module": "@jupyter-widgets/controls",
            "_view_module_version": "1.5.0",
            "_view_name": "HTMLView",
            "description": "",
            "description_tooltip": null,
            "layout": "IPY_MODEL_66ca93f001c14036a413b545a91053a6",
            "placeholder": "​",
            "style": "IPY_MODEL_29f2ce77462d4370bb1c010198ea89f9",
            "value": "tokenizer.model: 100%"
          }
        },
        "f7b558a183d947238ab7a68e6a04ea3e": {
          "model_module": "@jupyter-widgets/controls",
          "model_name": "FloatProgressModel",
          "model_module_version": "1.5.0",
          "state": {
            "_dom_classes": [],
            "_model_module": "@jupyter-widgets/controls",
            "_model_module_version": "1.5.0",
            "_model_name": "FloatProgressModel",
            "_view_count": null,
            "_view_module": "@jupyter-widgets/controls",
            "_view_module_version": "1.5.0",
            "_view_name": "ProgressView",
            "bar_style": "success",
            "description": "",
            "description_tooltip": null,
            "layout": "IPY_MODEL_6031ab33fc894db2bef2c07aa1d4b234",
            "max": 500058,
            "min": 0,
            "orientation": "horizontal",
            "style": "IPY_MODEL_faa763bd98ab44568f877076b4ebffa1",
            "value": 500058
          }
        },
        "7de461a4b3ae4b629910ee718044a3b7": {
          "model_module": "@jupyter-widgets/controls",
          "model_name": "HTMLModel",
          "model_module_version": "1.5.0",
          "state": {
            "_dom_classes": [],
            "_model_module": "@jupyter-widgets/controls",
            "_model_module_version": "1.5.0",
            "_model_name": "HTMLModel",
            "_view_count": null,
            "_view_module": "@jupyter-widgets/controls",
            "_view_module_version": "1.5.0",
            "_view_name": "HTMLView",
            "description": "",
            "description_tooltip": null,
            "layout": "IPY_MODEL_7d19d0edd76f4487991c4f6736ee956c",
            "placeholder": "​",
            "style": "IPY_MODEL_f1ba5fae397543c5b83b4ed475f601ed",
            "value": " 500k/500k [00:00&lt;00:00, 12.7MB/s]"
          }
        },
        "597fb1425d474a5ba73dc4b57f826e60": {
          "model_module": "@jupyter-widgets/base",
          "model_name": "LayoutModel",
          "model_module_version": "1.2.0",
          "state": {
            "_model_module": "@jupyter-widgets/base",
            "_model_module_version": "1.2.0",
            "_model_name": "LayoutModel",
            "_view_count": null,
            "_view_module": "@jupyter-widgets/base",
            "_view_module_version": "1.2.0",
            "_view_name": "LayoutView",
            "align_content": null,
            "align_items": null,
            "align_self": null,
            "border": null,
            "bottom": null,
            "display": null,
            "flex": null,
            "flex_flow": null,
            "grid_area": null,
            "grid_auto_columns": null,
            "grid_auto_flow": null,
            "grid_auto_rows": null,
            "grid_column": null,
            "grid_gap": null,
            "grid_row": null,
            "grid_template_areas": null,
            "grid_template_columns": null,
            "grid_template_rows": null,
            "height": null,
            "justify_content": null,
            "justify_items": null,
            "left": null,
            "margin": null,
            "max_height": null,
            "max_width": null,
            "min_height": null,
            "min_width": null,
            "object_fit": null,
            "object_position": null,
            "order": null,
            "overflow": null,
            "overflow_x": null,
            "overflow_y": null,
            "padding": null,
            "right": null,
            "top": null,
            "visibility": null,
            "width": null
          }
        },
        "66ca93f001c14036a413b545a91053a6": {
          "model_module": "@jupyter-widgets/base",
          "model_name": "LayoutModel",
          "model_module_version": "1.2.0",
          "state": {
            "_model_module": "@jupyter-widgets/base",
            "_model_module_version": "1.2.0",
            "_model_name": "LayoutModel",
            "_view_count": null,
            "_view_module": "@jupyter-widgets/base",
            "_view_module_version": "1.2.0",
            "_view_name": "LayoutView",
            "align_content": null,
            "align_items": null,
            "align_self": null,
            "border": null,
            "bottom": null,
            "display": null,
            "flex": null,
            "flex_flow": null,
            "grid_area": null,
            "grid_auto_columns": null,
            "grid_auto_flow": null,
            "grid_auto_rows": null,
            "grid_column": null,
            "grid_gap": null,
            "grid_row": null,
            "grid_template_areas": null,
            "grid_template_columns": null,
            "grid_template_rows": null,
            "height": null,
            "justify_content": null,
            "justify_items": null,
            "left": null,
            "margin": null,
            "max_height": null,
            "max_width": null,
            "min_height": null,
            "min_width": null,
            "object_fit": null,
            "object_position": null,
            "order": null,
            "overflow": null,
            "overflow_x": null,
            "overflow_y": null,
            "padding": null,
            "right": null,
            "top": null,
            "visibility": null,
            "width": null
          }
        },
        "29f2ce77462d4370bb1c010198ea89f9": {
          "model_module": "@jupyter-widgets/controls",
          "model_name": "DescriptionStyleModel",
          "model_module_version": "1.5.0",
          "state": {
            "_model_module": "@jupyter-widgets/controls",
            "_model_module_version": "1.5.0",
            "_model_name": "DescriptionStyleModel",
            "_view_count": null,
            "_view_module": "@jupyter-widgets/base",
            "_view_module_version": "1.2.0",
            "_view_name": "StyleView",
            "description_width": ""
          }
        },
        "6031ab33fc894db2bef2c07aa1d4b234": {
          "model_module": "@jupyter-widgets/base",
          "model_name": "LayoutModel",
          "model_module_version": "1.2.0",
          "state": {
            "_model_module": "@jupyter-widgets/base",
            "_model_module_version": "1.2.0",
            "_model_name": "LayoutModel",
            "_view_count": null,
            "_view_module": "@jupyter-widgets/base",
            "_view_module_version": "1.2.0",
            "_view_name": "LayoutView",
            "align_content": null,
            "align_items": null,
            "align_self": null,
            "border": null,
            "bottom": null,
            "display": null,
            "flex": null,
            "flex_flow": null,
            "grid_area": null,
            "grid_auto_columns": null,
            "grid_auto_flow": null,
            "grid_auto_rows": null,
            "grid_column": null,
            "grid_gap": null,
            "grid_row": null,
            "grid_template_areas": null,
            "grid_template_columns": null,
            "grid_template_rows": null,
            "height": null,
            "justify_content": null,
            "justify_items": null,
            "left": null,
            "margin": null,
            "max_height": null,
            "max_width": null,
            "min_height": null,
            "min_width": null,
            "object_fit": null,
            "object_position": null,
            "order": null,
            "overflow": null,
            "overflow_x": null,
            "overflow_y": null,
            "padding": null,
            "right": null,
            "top": null,
            "visibility": null,
            "width": null
          }
        },
        "faa763bd98ab44568f877076b4ebffa1": {
          "model_module": "@jupyter-widgets/controls",
          "model_name": "ProgressStyleModel",
          "model_module_version": "1.5.0",
          "state": {
            "_model_module": "@jupyter-widgets/controls",
            "_model_module_version": "1.5.0",
            "_model_name": "ProgressStyleModel",
            "_view_count": null,
            "_view_module": "@jupyter-widgets/base",
            "_view_module_version": "1.2.0",
            "_view_name": "StyleView",
            "bar_color": null,
            "description_width": ""
          }
        },
        "7d19d0edd76f4487991c4f6736ee956c": {
          "model_module": "@jupyter-widgets/base",
          "model_name": "LayoutModel",
          "model_module_version": "1.2.0",
          "state": {
            "_model_module": "@jupyter-widgets/base",
            "_model_module_version": "1.2.0",
            "_model_name": "LayoutModel",
            "_view_count": null,
            "_view_module": "@jupyter-widgets/base",
            "_view_module_version": "1.2.0",
            "_view_name": "LayoutView",
            "align_content": null,
            "align_items": null,
            "align_self": null,
            "border": null,
            "bottom": null,
            "display": null,
            "flex": null,
            "flex_flow": null,
            "grid_area": null,
            "grid_auto_columns": null,
            "grid_auto_flow": null,
            "grid_auto_rows": null,
            "grid_column": null,
            "grid_gap": null,
            "grid_row": null,
            "grid_template_areas": null,
            "grid_template_columns": null,
            "grid_template_rows": null,
            "height": null,
            "justify_content": null,
            "justify_items": null,
            "left": null,
            "margin": null,
            "max_height": null,
            "max_width": null,
            "min_height": null,
            "min_width": null,
            "object_fit": null,
            "object_position": null,
            "order": null,
            "overflow": null,
            "overflow_x": null,
            "overflow_y": null,
            "padding": null,
            "right": null,
            "top": null,
            "visibility": null,
            "width": null
          }
        },
        "f1ba5fae397543c5b83b4ed475f601ed": {
          "model_module": "@jupyter-widgets/controls",
          "model_name": "DescriptionStyleModel",
          "model_module_version": "1.5.0",
          "state": {
            "_model_module": "@jupyter-widgets/controls",
            "_model_module_version": "1.5.0",
            "_model_name": "DescriptionStyleModel",
            "_view_count": null,
            "_view_module": "@jupyter-widgets/base",
            "_view_module_version": "1.2.0",
            "_view_name": "StyleView",
            "description_width": ""
          }
        },
        "09eb8f8dc98e450186df74cc8707f81f": {
          "model_module": "@jupyter-widgets/controls",
          "model_name": "HBoxModel",
          "model_module_version": "1.5.0",
          "state": {
            "_dom_classes": [],
            "_model_module": "@jupyter-widgets/controls",
            "_model_module_version": "1.5.0",
            "_model_name": "HBoxModel",
            "_view_count": null,
            "_view_module": "@jupyter-widgets/controls",
            "_view_module_version": "1.5.0",
            "_view_name": "HBoxView",
            "box_style": "",
            "children": [
              "IPY_MODEL_09631cb7aa0a44e39b863ab10c5b57d8",
              "IPY_MODEL_0aa8917b0c2c4df086f5198cda1a0344",
              "IPY_MODEL_89fc209c593e45129db82575e062d44e"
            ],
            "layout": "IPY_MODEL_fae3a82f0dbc4c0d94dc01eec7cba5c0"
          }
        },
        "09631cb7aa0a44e39b863ab10c5b57d8": {
          "model_module": "@jupyter-widgets/controls",
          "model_name": "HTMLModel",
          "model_module_version": "1.5.0",
          "state": {
            "_dom_classes": [],
            "_model_module": "@jupyter-widgets/controls",
            "_model_module_version": "1.5.0",
            "_model_name": "HTMLModel",
            "_view_count": null,
            "_view_module": "@jupyter-widgets/controls",
            "_view_module_version": "1.5.0",
            "_view_name": "HTMLView",
            "description": "",
            "description_tooltip": null,
            "layout": "IPY_MODEL_41d948b91af54ee094cec35a4e7412ac",
            "placeholder": "​",
            "style": "IPY_MODEL_c44312344f934a26954cf69bcc02ee48",
            "value": "tokenizer.json: 100%"
          }
        },
        "0aa8917b0c2c4df086f5198cda1a0344": {
          "model_module": "@jupyter-widgets/controls",
          "model_name": "FloatProgressModel",
          "model_module_version": "1.5.0",
          "state": {
            "_dom_classes": [],
            "_model_module": "@jupyter-widgets/controls",
            "_model_module_version": "1.5.0",
            "_model_name": "FloatProgressModel",
            "_view_count": null,
            "_view_module": "@jupyter-widgets/controls",
            "_view_module_version": "1.5.0",
            "_view_name": "ProgressView",
            "bar_style": "success",
            "description": "",
            "description_tooltip": null,
            "layout": "IPY_MODEL_a1bda7b691ed4a58a01c72b4617a7c0a",
            "max": 1845656,
            "min": 0,
            "orientation": "horizontal",
            "style": "IPY_MODEL_3f69b8a3b1574285a61d011f3fcd66dd",
            "value": 1845656
          }
        },
        "89fc209c593e45129db82575e062d44e": {
          "model_module": "@jupyter-widgets/controls",
          "model_name": "HTMLModel",
          "model_module_version": "1.5.0",
          "state": {
            "_dom_classes": [],
            "_model_module": "@jupyter-widgets/controls",
            "_model_module_version": "1.5.0",
            "_model_name": "HTMLModel",
            "_view_count": null,
            "_view_module": "@jupyter-widgets/controls",
            "_view_module_version": "1.5.0",
            "_view_name": "HTMLView",
            "description": "",
            "description_tooltip": null,
            "layout": "IPY_MODEL_79bd3489a3154ae289348d9e11902b09",
            "placeholder": "​",
            "style": "IPY_MODEL_25f84631486d427194d829cbff92dab1",
            "value": " 1.85M/1.85M [00:00&lt;00:00, 24.3MB/s]"
          }
        },
        "fae3a82f0dbc4c0d94dc01eec7cba5c0": {
          "model_module": "@jupyter-widgets/base",
          "model_name": "LayoutModel",
          "model_module_version": "1.2.0",
          "state": {
            "_model_module": "@jupyter-widgets/base",
            "_model_module_version": "1.2.0",
            "_model_name": "LayoutModel",
            "_view_count": null,
            "_view_module": "@jupyter-widgets/base",
            "_view_module_version": "1.2.0",
            "_view_name": "LayoutView",
            "align_content": null,
            "align_items": null,
            "align_self": null,
            "border": null,
            "bottom": null,
            "display": null,
            "flex": null,
            "flex_flow": null,
            "grid_area": null,
            "grid_auto_columns": null,
            "grid_auto_flow": null,
            "grid_auto_rows": null,
            "grid_column": null,
            "grid_gap": null,
            "grid_row": null,
            "grid_template_areas": null,
            "grid_template_columns": null,
            "grid_template_rows": null,
            "height": null,
            "justify_content": null,
            "justify_items": null,
            "left": null,
            "margin": null,
            "max_height": null,
            "max_width": null,
            "min_height": null,
            "min_width": null,
            "object_fit": null,
            "object_position": null,
            "order": null,
            "overflow": null,
            "overflow_x": null,
            "overflow_y": null,
            "padding": null,
            "right": null,
            "top": null,
            "visibility": null,
            "width": null
          }
        },
        "41d948b91af54ee094cec35a4e7412ac": {
          "model_module": "@jupyter-widgets/base",
          "model_name": "LayoutModel",
          "model_module_version": "1.2.0",
          "state": {
            "_model_module": "@jupyter-widgets/base",
            "_model_module_version": "1.2.0",
            "_model_name": "LayoutModel",
            "_view_count": null,
            "_view_module": "@jupyter-widgets/base",
            "_view_module_version": "1.2.0",
            "_view_name": "LayoutView",
            "align_content": null,
            "align_items": null,
            "align_self": null,
            "border": null,
            "bottom": null,
            "display": null,
            "flex": null,
            "flex_flow": null,
            "grid_area": null,
            "grid_auto_columns": null,
            "grid_auto_flow": null,
            "grid_auto_rows": null,
            "grid_column": null,
            "grid_gap": null,
            "grid_row": null,
            "grid_template_areas": null,
            "grid_template_columns": null,
            "grid_template_rows": null,
            "height": null,
            "justify_content": null,
            "justify_items": null,
            "left": null,
            "margin": null,
            "max_height": null,
            "max_width": null,
            "min_height": null,
            "min_width": null,
            "object_fit": null,
            "object_position": null,
            "order": null,
            "overflow": null,
            "overflow_x": null,
            "overflow_y": null,
            "padding": null,
            "right": null,
            "top": null,
            "visibility": null,
            "width": null
          }
        },
        "c44312344f934a26954cf69bcc02ee48": {
          "model_module": "@jupyter-widgets/controls",
          "model_name": "DescriptionStyleModel",
          "model_module_version": "1.5.0",
          "state": {
            "_model_module": "@jupyter-widgets/controls",
            "_model_module_version": "1.5.0",
            "_model_name": "DescriptionStyleModel",
            "_view_count": null,
            "_view_module": "@jupyter-widgets/base",
            "_view_module_version": "1.2.0",
            "_view_name": "StyleView",
            "description_width": ""
          }
        },
        "a1bda7b691ed4a58a01c72b4617a7c0a": {
          "model_module": "@jupyter-widgets/base",
          "model_name": "LayoutModel",
          "model_module_version": "1.2.0",
          "state": {
            "_model_module": "@jupyter-widgets/base",
            "_model_module_version": "1.2.0",
            "_model_name": "LayoutModel",
            "_view_count": null,
            "_view_module": "@jupyter-widgets/base",
            "_view_module_version": "1.2.0",
            "_view_name": "LayoutView",
            "align_content": null,
            "align_items": null,
            "align_self": null,
            "border": null,
            "bottom": null,
            "display": null,
            "flex": null,
            "flex_flow": null,
            "grid_area": null,
            "grid_auto_columns": null,
            "grid_auto_flow": null,
            "grid_auto_rows": null,
            "grid_column": null,
            "grid_gap": null,
            "grid_row": null,
            "grid_template_areas": null,
            "grid_template_columns": null,
            "grid_template_rows": null,
            "height": null,
            "justify_content": null,
            "justify_items": null,
            "left": null,
            "margin": null,
            "max_height": null,
            "max_width": null,
            "min_height": null,
            "min_width": null,
            "object_fit": null,
            "object_position": null,
            "order": null,
            "overflow": null,
            "overflow_x": null,
            "overflow_y": null,
            "padding": null,
            "right": null,
            "top": null,
            "visibility": null,
            "width": null
          }
        },
        "3f69b8a3b1574285a61d011f3fcd66dd": {
          "model_module": "@jupyter-widgets/controls",
          "model_name": "ProgressStyleModel",
          "model_module_version": "1.5.0",
          "state": {
            "_model_module": "@jupyter-widgets/controls",
            "_model_module_version": "1.5.0",
            "_model_name": "ProgressStyleModel",
            "_view_count": null,
            "_view_module": "@jupyter-widgets/base",
            "_view_module_version": "1.2.0",
            "_view_name": "StyleView",
            "bar_color": null,
            "description_width": ""
          }
        },
        "79bd3489a3154ae289348d9e11902b09": {
          "model_module": "@jupyter-widgets/base",
          "model_name": "LayoutModel",
          "model_module_version": "1.2.0",
          "state": {
            "_model_module": "@jupyter-widgets/base",
            "_model_module_version": "1.2.0",
            "_model_name": "LayoutModel",
            "_view_count": null,
            "_view_module": "@jupyter-widgets/base",
            "_view_module_version": "1.2.0",
            "_view_name": "LayoutView",
            "align_content": null,
            "align_items": null,
            "align_self": null,
            "border": null,
            "bottom": null,
            "display": null,
            "flex": null,
            "flex_flow": null,
            "grid_area": null,
            "grid_auto_columns": null,
            "grid_auto_flow": null,
            "grid_auto_rows": null,
            "grid_column": null,
            "grid_gap": null,
            "grid_row": null,
            "grid_template_areas": null,
            "grid_template_columns": null,
            "grid_template_rows": null,
            "height": null,
            "justify_content": null,
            "justify_items": null,
            "left": null,
            "margin": null,
            "max_height": null,
            "max_width": null,
            "min_height": null,
            "min_width": null,
            "object_fit": null,
            "object_position": null,
            "order": null,
            "overflow": null,
            "overflow_x": null,
            "overflow_y": null,
            "padding": null,
            "right": null,
            "top": null,
            "visibility": null,
            "width": null
          }
        },
        "25f84631486d427194d829cbff92dab1": {
          "model_module": "@jupyter-widgets/controls",
          "model_name": "DescriptionStyleModel",
          "model_module_version": "1.5.0",
          "state": {
            "_model_module": "@jupyter-widgets/controls",
            "_model_module_version": "1.5.0",
            "_model_name": "DescriptionStyleModel",
            "_view_count": null,
            "_view_module": "@jupyter-widgets/base",
            "_view_module_version": "1.2.0",
            "_view_name": "StyleView",
            "description_width": ""
          }
        },
        "f47921ca87364119add35c66f7cafc22": {
          "model_module": "@jupyter-widgets/controls",
          "model_name": "HBoxModel",
          "model_module_version": "1.5.0",
          "state": {
            "_dom_classes": [],
            "_model_module": "@jupyter-widgets/controls",
            "_model_module_version": "1.5.0",
            "_model_name": "HBoxModel",
            "_view_count": null,
            "_view_module": "@jupyter-widgets/controls",
            "_view_module_version": "1.5.0",
            "_view_name": "HBoxView",
            "box_style": "",
            "children": [
              "IPY_MODEL_39f04921332543db9382986d987f5104",
              "IPY_MODEL_69ce13994f30404c953a850df771ec99",
              "IPY_MODEL_2d51c994aaff444689ffd77ec9967e4c"
            ],
            "layout": "IPY_MODEL_f0e5ff62f2c34e018e737add9b2ac7fa"
          }
        },
        "39f04921332543db9382986d987f5104": {
          "model_module": "@jupyter-widgets/controls",
          "model_name": "HTMLModel",
          "model_module_version": "1.5.0",
          "state": {
            "_dom_classes": [],
            "_model_module": "@jupyter-widgets/controls",
            "_model_module_version": "1.5.0",
            "_model_name": "HTMLModel",
            "_view_count": null,
            "_view_module": "@jupyter-widgets/controls",
            "_view_module_version": "1.5.0",
            "_view_name": "HTMLView",
            "description": "",
            "description_tooltip": null,
            "layout": "IPY_MODEL_5d74bd9390e04314b55b67f9ad8e94f0",
            "placeholder": "​",
            "style": "IPY_MODEL_ecb8147256a049ed8ec78586bf8e85df",
            "value": "added_tokens.json: 100%"
          }
        },
        "69ce13994f30404c953a850df771ec99": {
          "model_module": "@jupyter-widgets/controls",
          "model_name": "FloatProgressModel",
          "model_module_version": "1.5.0",
          "state": {
            "_dom_classes": [],
            "_model_module": "@jupyter-widgets/controls",
            "_model_module_version": "1.5.0",
            "_model_name": "FloatProgressModel",
            "_view_count": null,
            "_view_module": "@jupyter-widgets/controls",
            "_view_module_version": "1.5.0",
            "_view_name": "ProgressView",
            "bar_style": "success",
            "description": "",
            "description_tooltip": null,
            "layout": "IPY_MODEL_04dcd1a9d2f94327b67d1efca6170216",
            "max": 195,
            "min": 0,
            "orientation": "horizontal",
            "style": "IPY_MODEL_8fa596704a364dd5ad5b76266a1faecb",
            "value": 195
          }
        },
        "2d51c994aaff444689ffd77ec9967e4c": {
          "model_module": "@jupyter-widgets/controls",
          "model_name": "HTMLModel",
          "model_module_version": "1.5.0",
          "state": {
            "_dom_classes": [],
            "_model_module": "@jupyter-widgets/controls",
            "_model_module_version": "1.5.0",
            "_model_name": "HTMLModel",
            "_view_count": null,
            "_view_module": "@jupyter-widgets/controls",
            "_view_module_version": "1.5.0",
            "_view_name": "HTMLView",
            "description": "",
            "description_tooltip": null,
            "layout": "IPY_MODEL_2602c9f3956245b1b0a8aa04e9ca4fcb",
            "placeholder": "​",
            "style": "IPY_MODEL_18ac029fd2cb4061b92a76f9bdb3d023",
            "value": " 195/195 [00:00&lt;00:00, 6.31kB/s]"
          }
        },
        "f0e5ff62f2c34e018e737add9b2ac7fa": {
          "model_module": "@jupyter-widgets/base",
          "model_name": "LayoutModel",
          "model_module_version": "1.2.0",
          "state": {
            "_model_module": "@jupyter-widgets/base",
            "_model_module_version": "1.2.0",
            "_model_name": "LayoutModel",
            "_view_count": null,
            "_view_module": "@jupyter-widgets/base",
            "_view_module_version": "1.2.0",
            "_view_name": "LayoutView",
            "align_content": null,
            "align_items": null,
            "align_self": null,
            "border": null,
            "bottom": null,
            "display": null,
            "flex": null,
            "flex_flow": null,
            "grid_area": null,
            "grid_auto_columns": null,
            "grid_auto_flow": null,
            "grid_auto_rows": null,
            "grid_column": null,
            "grid_gap": null,
            "grid_row": null,
            "grid_template_areas": null,
            "grid_template_columns": null,
            "grid_template_rows": null,
            "height": null,
            "justify_content": null,
            "justify_items": null,
            "left": null,
            "margin": null,
            "max_height": null,
            "max_width": null,
            "min_height": null,
            "min_width": null,
            "object_fit": null,
            "object_position": null,
            "order": null,
            "overflow": null,
            "overflow_x": null,
            "overflow_y": null,
            "padding": null,
            "right": null,
            "top": null,
            "visibility": null,
            "width": null
          }
        },
        "5d74bd9390e04314b55b67f9ad8e94f0": {
          "model_module": "@jupyter-widgets/base",
          "model_name": "LayoutModel",
          "model_module_version": "1.2.0",
          "state": {
            "_model_module": "@jupyter-widgets/base",
            "_model_module_version": "1.2.0",
            "_model_name": "LayoutModel",
            "_view_count": null,
            "_view_module": "@jupyter-widgets/base",
            "_view_module_version": "1.2.0",
            "_view_name": "LayoutView",
            "align_content": null,
            "align_items": null,
            "align_self": null,
            "border": null,
            "bottom": null,
            "display": null,
            "flex": null,
            "flex_flow": null,
            "grid_area": null,
            "grid_auto_columns": null,
            "grid_auto_flow": null,
            "grid_auto_rows": null,
            "grid_column": null,
            "grid_gap": null,
            "grid_row": null,
            "grid_template_areas": null,
            "grid_template_columns": null,
            "grid_template_rows": null,
            "height": null,
            "justify_content": null,
            "justify_items": null,
            "left": null,
            "margin": null,
            "max_height": null,
            "max_width": null,
            "min_height": null,
            "min_width": null,
            "object_fit": null,
            "object_position": null,
            "order": null,
            "overflow": null,
            "overflow_x": null,
            "overflow_y": null,
            "padding": null,
            "right": null,
            "top": null,
            "visibility": null,
            "width": null
          }
        },
        "ecb8147256a049ed8ec78586bf8e85df": {
          "model_module": "@jupyter-widgets/controls",
          "model_name": "DescriptionStyleModel",
          "model_module_version": "1.5.0",
          "state": {
            "_model_module": "@jupyter-widgets/controls",
            "_model_module_version": "1.5.0",
            "_model_name": "DescriptionStyleModel",
            "_view_count": null,
            "_view_module": "@jupyter-widgets/base",
            "_view_module_version": "1.2.0",
            "_view_name": "StyleView",
            "description_width": ""
          }
        },
        "04dcd1a9d2f94327b67d1efca6170216": {
          "model_module": "@jupyter-widgets/base",
          "model_name": "LayoutModel",
          "model_module_version": "1.2.0",
          "state": {
            "_model_module": "@jupyter-widgets/base",
            "_model_module_version": "1.2.0",
            "_model_name": "LayoutModel",
            "_view_count": null,
            "_view_module": "@jupyter-widgets/base",
            "_view_module_version": "1.2.0",
            "_view_name": "LayoutView",
            "align_content": null,
            "align_items": null,
            "align_self": null,
            "border": null,
            "bottom": null,
            "display": null,
            "flex": null,
            "flex_flow": null,
            "grid_area": null,
            "grid_auto_columns": null,
            "grid_auto_flow": null,
            "grid_auto_rows": null,
            "grid_column": null,
            "grid_gap": null,
            "grid_row": null,
            "grid_template_areas": null,
            "grid_template_columns": null,
            "grid_template_rows": null,
            "height": null,
            "justify_content": null,
            "justify_items": null,
            "left": null,
            "margin": null,
            "max_height": null,
            "max_width": null,
            "min_height": null,
            "min_width": null,
            "object_fit": null,
            "object_position": null,
            "order": null,
            "overflow": null,
            "overflow_x": null,
            "overflow_y": null,
            "padding": null,
            "right": null,
            "top": null,
            "visibility": null,
            "width": null
          }
        },
        "8fa596704a364dd5ad5b76266a1faecb": {
          "model_module": "@jupyter-widgets/controls",
          "model_name": "ProgressStyleModel",
          "model_module_version": "1.5.0",
          "state": {
            "_model_module": "@jupyter-widgets/controls",
            "_model_module_version": "1.5.0",
            "_model_name": "ProgressStyleModel",
            "_view_count": null,
            "_view_module": "@jupyter-widgets/base",
            "_view_module_version": "1.2.0",
            "_view_name": "StyleView",
            "bar_color": null,
            "description_width": ""
          }
        },
        "2602c9f3956245b1b0a8aa04e9ca4fcb": {
          "model_module": "@jupyter-widgets/base",
          "model_name": "LayoutModel",
          "model_module_version": "1.2.0",
          "state": {
            "_model_module": "@jupyter-widgets/base",
            "_model_module_version": "1.2.0",
            "_model_name": "LayoutModel",
            "_view_count": null,
            "_view_module": "@jupyter-widgets/base",
            "_view_module_version": "1.2.0",
            "_view_name": "LayoutView",
            "align_content": null,
            "align_items": null,
            "align_self": null,
            "border": null,
            "bottom": null,
            "display": null,
            "flex": null,
            "flex_flow": null,
            "grid_area": null,
            "grid_auto_columns": null,
            "grid_auto_flow": null,
            "grid_auto_rows": null,
            "grid_column": null,
            "grid_gap": null,
            "grid_row": null,
            "grid_template_areas": null,
            "grid_template_columns": null,
            "grid_template_rows": null,
            "height": null,
            "justify_content": null,
            "justify_items": null,
            "left": null,
            "margin": null,
            "max_height": null,
            "max_width": null,
            "min_height": null,
            "min_width": null,
            "object_fit": null,
            "object_position": null,
            "order": null,
            "overflow": null,
            "overflow_x": null,
            "overflow_y": null,
            "padding": null,
            "right": null,
            "top": null,
            "visibility": null,
            "width": null
          }
        },
        "18ac029fd2cb4061b92a76f9bdb3d023": {
          "model_module": "@jupyter-widgets/controls",
          "model_name": "DescriptionStyleModel",
          "model_module_version": "1.5.0",
          "state": {
            "_model_module": "@jupyter-widgets/controls",
            "_model_module_version": "1.5.0",
            "_model_name": "DescriptionStyleModel",
            "_view_count": null,
            "_view_module": "@jupyter-widgets/base",
            "_view_module_version": "1.2.0",
            "_view_name": "StyleView",
            "description_width": ""
          }
        },
        "9ad9dfdfa9b64d8b8bced9d5f4608646": {
          "model_module": "@jupyter-widgets/controls",
          "model_name": "HBoxModel",
          "model_module_version": "1.5.0",
          "state": {
            "_dom_classes": [],
            "_model_module": "@jupyter-widgets/controls",
            "_model_module_version": "1.5.0",
            "_model_name": "HBoxModel",
            "_view_count": null,
            "_view_module": "@jupyter-widgets/controls",
            "_view_module_version": "1.5.0",
            "_view_name": "HBoxView",
            "box_style": "",
            "children": [
              "IPY_MODEL_c7668539809c44d1b2cc5d96a1c9b321",
              "IPY_MODEL_f917c929790940cda8f8bb5511979b51",
              "IPY_MODEL_5e7bcdf9bbab49edaa5d92d3dd6eba52"
            ],
            "layout": "IPY_MODEL_f7a8b9469a3e4994a41e5b8a8955b244"
          }
        },
        "c7668539809c44d1b2cc5d96a1c9b321": {
          "model_module": "@jupyter-widgets/controls",
          "model_name": "HTMLModel",
          "model_module_version": "1.5.0",
          "state": {
            "_dom_classes": [],
            "_model_module": "@jupyter-widgets/controls",
            "_model_module_version": "1.5.0",
            "_model_name": "HTMLModel",
            "_view_count": null,
            "_view_module": "@jupyter-widgets/controls",
            "_view_module_version": "1.5.0",
            "_view_name": "HTMLView",
            "description": "",
            "description_tooltip": null,
            "layout": "IPY_MODEL_9320b20c1e3e473281c1ca80ecb65ee5",
            "placeholder": "​",
            "style": "IPY_MODEL_7265624e8e7c45698769ddff01ab12f8",
            "value": "special_tokens_map.json: 100%"
          }
        },
        "f917c929790940cda8f8bb5511979b51": {
          "model_module": "@jupyter-widgets/controls",
          "model_name": "FloatProgressModel",
          "model_module_version": "1.5.0",
          "state": {
            "_dom_classes": [],
            "_model_module": "@jupyter-widgets/controls",
            "_model_module_version": "1.5.0",
            "_model_name": "FloatProgressModel",
            "_view_count": null,
            "_view_module": "@jupyter-widgets/controls",
            "_view_module_version": "1.5.0",
            "_view_name": "ProgressView",
            "bar_style": "success",
            "description": "",
            "description_tooltip": null,
            "layout": "IPY_MODEL_daebb4d5196247ecac7721f0014052d9",
            "max": 623,
            "min": 0,
            "orientation": "horizontal",
            "style": "IPY_MODEL_a880c64054f94b068d44d7a85798e245",
            "value": 623
          }
        },
        "5e7bcdf9bbab49edaa5d92d3dd6eba52": {
          "model_module": "@jupyter-widgets/controls",
          "model_name": "HTMLModel",
          "model_module_version": "1.5.0",
          "state": {
            "_dom_classes": [],
            "_model_module": "@jupyter-widgets/controls",
            "_model_module_version": "1.5.0",
            "_model_name": "HTMLModel",
            "_view_count": null,
            "_view_module": "@jupyter-widgets/controls",
            "_view_module_version": "1.5.0",
            "_view_name": "HTMLView",
            "description": "",
            "description_tooltip": null,
            "layout": "IPY_MODEL_6c6caa53ca2e466aa3fd4b4faea58820",
            "placeholder": "​",
            "style": "IPY_MODEL_6c363a16a4a74adcb62c4cf40924ef57",
            "value": " 623/623 [00:00&lt;00:00, 11.2kB/s]"
          }
        },
        "f7a8b9469a3e4994a41e5b8a8955b244": {
          "model_module": "@jupyter-widgets/base",
          "model_name": "LayoutModel",
          "model_module_version": "1.2.0",
          "state": {
            "_model_module": "@jupyter-widgets/base",
            "_model_module_version": "1.2.0",
            "_model_name": "LayoutModel",
            "_view_count": null,
            "_view_module": "@jupyter-widgets/base",
            "_view_module_version": "1.2.0",
            "_view_name": "LayoutView",
            "align_content": null,
            "align_items": null,
            "align_self": null,
            "border": null,
            "bottom": null,
            "display": null,
            "flex": null,
            "flex_flow": null,
            "grid_area": null,
            "grid_auto_columns": null,
            "grid_auto_flow": null,
            "grid_auto_rows": null,
            "grid_column": null,
            "grid_gap": null,
            "grid_row": null,
            "grid_template_areas": null,
            "grid_template_columns": null,
            "grid_template_rows": null,
            "height": null,
            "justify_content": null,
            "justify_items": null,
            "left": null,
            "margin": null,
            "max_height": null,
            "max_width": null,
            "min_height": null,
            "min_width": null,
            "object_fit": null,
            "object_position": null,
            "order": null,
            "overflow": null,
            "overflow_x": null,
            "overflow_y": null,
            "padding": null,
            "right": null,
            "top": null,
            "visibility": null,
            "width": null
          }
        },
        "9320b20c1e3e473281c1ca80ecb65ee5": {
          "model_module": "@jupyter-widgets/base",
          "model_name": "LayoutModel",
          "model_module_version": "1.2.0",
          "state": {
            "_model_module": "@jupyter-widgets/base",
            "_model_module_version": "1.2.0",
            "_model_name": "LayoutModel",
            "_view_count": null,
            "_view_module": "@jupyter-widgets/base",
            "_view_module_version": "1.2.0",
            "_view_name": "LayoutView",
            "align_content": null,
            "align_items": null,
            "align_self": null,
            "border": null,
            "bottom": null,
            "display": null,
            "flex": null,
            "flex_flow": null,
            "grid_area": null,
            "grid_auto_columns": null,
            "grid_auto_flow": null,
            "grid_auto_rows": null,
            "grid_column": null,
            "grid_gap": null,
            "grid_row": null,
            "grid_template_areas": null,
            "grid_template_columns": null,
            "grid_template_rows": null,
            "height": null,
            "justify_content": null,
            "justify_items": null,
            "left": null,
            "margin": null,
            "max_height": null,
            "max_width": null,
            "min_height": null,
            "min_width": null,
            "object_fit": null,
            "object_position": null,
            "order": null,
            "overflow": null,
            "overflow_x": null,
            "overflow_y": null,
            "padding": null,
            "right": null,
            "top": null,
            "visibility": null,
            "width": null
          }
        },
        "7265624e8e7c45698769ddff01ab12f8": {
          "model_module": "@jupyter-widgets/controls",
          "model_name": "DescriptionStyleModel",
          "model_module_version": "1.5.0",
          "state": {
            "_model_module": "@jupyter-widgets/controls",
            "_model_module_version": "1.5.0",
            "_model_name": "DescriptionStyleModel",
            "_view_count": null,
            "_view_module": "@jupyter-widgets/base",
            "_view_module_version": "1.2.0",
            "_view_name": "StyleView",
            "description_width": ""
          }
        },
        "daebb4d5196247ecac7721f0014052d9": {
          "model_module": "@jupyter-widgets/base",
          "model_name": "LayoutModel",
          "model_module_version": "1.2.0",
          "state": {
            "_model_module": "@jupyter-widgets/base",
            "_model_module_version": "1.2.0",
            "_model_name": "LayoutModel",
            "_view_count": null,
            "_view_module": "@jupyter-widgets/base",
            "_view_module_version": "1.2.0",
            "_view_name": "LayoutView",
            "align_content": null,
            "align_items": null,
            "align_self": null,
            "border": null,
            "bottom": null,
            "display": null,
            "flex": null,
            "flex_flow": null,
            "grid_area": null,
            "grid_auto_columns": null,
            "grid_auto_flow": null,
            "grid_auto_rows": null,
            "grid_column": null,
            "grid_gap": null,
            "grid_row": null,
            "grid_template_areas": null,
            "grid_template_columns": null,
            "grid_template_rows": null,
            "height": null,
            "justify_content": null,
            "justify_items": null,
            "left": null,
            "margin": null,
            "max_height": null,
            "max_width": null,
            "min_height": null,
            "min_width": null,
            "object_fit": null,
            "object_position": null,
            "order": null,
            "overflow": null,
            "overflow_x": null,
            "overflow_y": null,
            "padding": null,
            "right": null,
            "top": null,
            "visibility": null,
            "width": null
          }
        },
        "a880c64054f94b068d44d7a85798e245": {
          "model_module": "@jupyter-widgets/controls",
          "model_name": "ProgressStyleModel",
          "model_module_version": "1.5.0",
          "state": {
            "_model_module": "@jupyter-widgets/controls",
            "_model_module_version": "1.5.0",
            "_model_name": "ProgressStyleModel",
            "_view_count": null,
            "_view_module": "@jupyter-widgets/base",
            "_view_module_version": "1.2.0",
            "_view_name": "StyleView",
            "bar_color": null,
            "description_width": ""
          }
        },
        "6c6caa53ca2e466aa3fd4b4faea58820": {
          "model_module": "@jupyter-widgets/base",
          "model_name": "LayoutModel",
          "model_module_version": "1.2.0",
          "state": {
            "_model_module": "@jupyter-widgets/base",
            "_model_module_version": "1.2.0",
            "_model_name": "LayoutModel",
            "_view_count": null,
            "_view_module": "@jupyter-widgets/base",
            "_view_module_version": "1.2.0",
            "_view_name": "LayoutView",
            "align_content": null,
            "align_items": null,
            "align_self": null,
            "border": null,
            "bottom": null,
            "display": null,
            "flex": null,
            "flex_flow": null,
            "grid_area": null,
            "grid_auto_columns": null,
            "grid_auto_flow": null,
            "grid_auto_rows": null,
            "grid_column": null,
            "grid_gap": null,
            "grid_row": null,
            "grid_template_areas": null,
            "grid_template_columns": null,
            "grid_template_rows": null,
            "height": null,
            "justify_content": null,
            "justify_items": null,
            "left": null,
            "margin": null,
            "max_height": null,
            "max_width": null,
            "min_height": null,
            "min_width": null,
            "object_fit": null,
            "object_position": null,
            "order": null,
            "overflow": null,
            "overflow_x": null,
            "overflow_y": null,
            "padding": null,
            "right": null,
            "top": null,
            "visibility": null,
            "width": null
          }
        },
        "6c363a16a4a74adcb62c4cf40924ef57": {
          "model_module": "@jupyter-widgets/controls",
          "model_name": "DescriptionStyleModel",
          "model_module_version": "1.5.0",
          "state": {
            "_model_module": "@jupyter-widgets/controls",
            "_model_module_version": "1.5.0",
            "_model_name": "DescriptionStyleModel",
            "_view_count": null,
            "_view_module": "@jupyter-widgets/base",
            "_view_module_version": "1.2.0",
            "_view_name": "StyleView",
            "description_width": ""
          }
        }
      }
    },
    "accelerator": "GPU"
  },
  "nbformat": 4,
  "nbformat_minor": 0
}